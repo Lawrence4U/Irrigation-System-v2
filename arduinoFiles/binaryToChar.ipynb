{
 "cells": [
  {
   "cell_type": "code",
   "execution_count": 3,
   "metadata": {},
   "outputs": [
    {
     "name": "stdout",
     "output_type": "stream",
     "text": [
      "{ 0xC6, 0x18, 0xBE, 0x80, 0x88 }\n"
     ]
    }
   ],
   "source": [
    "def binary_to_hex(binary_data):\n",
    "    # Check if the length of the binary_data is a multiple of 8\n",
    "    if len(binary_data) % 8 != 0:\n",
    "        raise ValueError(\"The length of the binary data should be a multiple of 8\")\n",
    "\n",
    "    # Initialize an empty list to store the hex representation of each byte\n",
    "    hex_list = []\n",
    "\n",
    "    # Process each byte (8 bits) in the binary data\n",
    "    for i in range(0, len(binary_data), 8):\n",
    "        byte = binary_data[i:i + 8]  # Extract 8 bits\n",
    "        hex_byte = format(int(byte, 2), '02X')  # Convert to hex, ensure 2 digits, and uppercase\n",
    "        hex_list.append(f\"0x{hex_byte}\")\n",
    "\n",
    "    # Convert the list to a formatted string\n",
    "    hex_string = \"{ \" + \", \".join(hex_list) + \" }\"\n",
    "    \n",
    "    return hex_string\n",
    "\n",
    "\n",
    "# Example usage\n",
    "binary_data = \"1100011000011000101111101000000010001000\"\n",
    "hex_string = binary_to_hex(binary_data)\n",
    "print(hex_string)  # Output: { 0x6C, 0x6C, 0x6C, 0x6C }\n"
   ]
  },
  {
   "cell_type": "code",
   "execution_count": null,
   "metadata": {},
   "outputs": [],
   "source": []
  }
 ],
 "metadata": {
  "kernelspec": {
   "display_name": "Python 3",
   "language": "python",
   "name": "python3"
  },
  "language_info": {
   "codemirror_mode": {
    "name": "ipython",
    "version": 3
   },
   "file_extension": ".py",
   "mimetype": "text/x-python",
   "name": "python",
   "nbconvert_exporter": "python",
   "pygments_lexer": "ipython3",
   "version": "3.12.4"
  }
 },
 "nbformat": 4,
 "nbformat_minor": 2
}
