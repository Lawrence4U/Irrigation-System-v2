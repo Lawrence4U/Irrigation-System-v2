{
 "cells": [
  {
   "cell_type": "code",
   "execution_count": 1,
   "metadata": {},
   "outputs": [
    {
     "data": {
      "text/plain": [
       "{'pumps': {'1': {'duration': 0, 'start': 0},\n",
       "  '2': {'duration': 0, 'start': 0},\n",
       "  '3': {'duration': 0, 'start': 0},\n",
       "  '4': {'duration': 0, 'start': 0},\n",
       "  '5': {'duration': 0, 'start': 0}},\n",
       " 'lights': {'1': {'duration': 0, 'start': 0},\n",
       "  '2': {'duration': 0, 'start': 0},\n",
       "  '3': {'duration': 0, 'start': 0},\n",
       "  '4': {'duration': 0, 'start': 0}},\n",
       " 'blinds': {'1': {'duration': 0, 'start': 0},\n",
       "  '2': {'duration': 0, 'start': 0}},\n",
       " 'windows': {'1': {'aperture': 0, 'start': 0, 'duration': 0},\n",
       "  '2': {'aperture': 0, 'start': 0, 'duration': 0}},\n",
       " 'heating': {'temp_limit': 0}}"
      ]
     },
     "execution_count": 1,
     "metadata": {},
     "output_type": "execute_result"
    }
   ],
   "source": [
    "from config import *\n",
    "\n",
    "loadConfig()"
   ]
  },
  {
   "cell_type": "code",
   "execution_count": 7,
   "metadata": {},
   "outputs": [
    {
     "data": {
      "text/plain": [
       "190"
      ]
     },
     "execution_count": 7,
     "metadata": {},
     "output_type": "execute_result"
    }
   ],
   "source": [
    "a = 0b10111110\n",
    "a"
   ]
  },
  {
   "cell_type": "code",
   "execution_count": 12,
   "metadata": {},
   "outputs": [
    {
     "name": "stdout",
     "output_type": "stream",
     "text": [
      "0XBE\n"
     ]
    }
   ],
   "source": [
    "print((hex(a)).upper())"
   ]
  },
  {
   "cell_type": "code",
   "execution_count": null,
   "metadata": {},
   "outputs": [],
   "source": []
  }
 ],
 "metadata": {
  "kernelspec": {
   "display_name": "tfm",
   "language": "python",
   "name": "python3"
  },
  "language_info": {
   "codemirror_mode": {
    "name": "ipython",
    "version": 3
   },
   "file_extension": ".py",
   "mimetype": "text/x-python",
   "name": "python",
   "nbconvert_exporter": "python",
   "pygments_lexer": "ipython3",
   "version": "3.12.4"
  }
 },
 "nbformat": 4,
 "nbformat_minor": 2
}
